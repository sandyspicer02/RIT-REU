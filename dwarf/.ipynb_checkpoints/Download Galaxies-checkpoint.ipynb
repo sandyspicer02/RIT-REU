{
 "cells": [
  {
   "cell_type": "code",
   "execution_count": 17,
   "metadata": {},
   "outputs": [
    {
     "name": "stdout",
     "output_type": "stream",
     "text": [
      "Setting API Key to 4e2c93455bbc8e991a91a61ef5e11daa\n",
      " Obtaining subhalos in mass range 0.002 to 0.003 at redshift 0.000000\n",
      "   21 subhalos will be obtained in 100-element chunks\n",
      " Obtaining metadata for 21 subhalos\n",
      "     0 % done\n",
      "     10 % done\n",
      "     20 % done\n",
      "     30 % done\n",
      "     40 % done\n",
      "     50 % done\n",
      "     60 % done\n",
      "     70 % done\n",
      "     80 % done\n",
      "     90 % done\n",
      "     100 % done\n",
      "Initial idn set = 21\n",
      "21\n",
      "Applying filter filter_non_zero_mass\n",
      " 0 eliminated due to less than epsilon mass\n",
      " 1 eliminated due to less than epsilon mass\n",
      " 2 eliminated due to less than epsilon mass\n",
      " 3 eliminated due to less than epsilon mass\n",
      " 4 eliminated due to less than epsilon mass\n",
      " 6 eliminated due to less than epsilon mass\n",
      " 7 eliminated due to less than epsilon mass\n",
      " 8 eliminated due to less than epsilon mass\n",
      " 9 eliminated due to less than epsilon mass\n",
      " 10 eliminated due to less than epsilon mass\n",
      " 11 eliminated due to less than epsilon mass\n",
      " 12 eliminated due to less than epsilon mass\n",
      " 13 eliminated due to less than epsilon mass\n",
      " 15 eliminated due to less than epsilon mass\n",
      " 18 eliminated due to less than epsilon mass\n",
      " 19 eliminated due to less than epsilon mass\n",
      " 20 eliminated due to less than epsilon mass\n",
      "idn set now 4 \n",
      "Applying filter filter_star_mass\n",
      "idn set now 4 \n",
      "Applying filter filter_fluid_mass\n",
      "idn set now 4 \n",
      " Beginning pickle process at protocol version 4 \n",
      " Pickling 142457 to data_142457.pickle.\n",
      " Pickling 372071 to data_372071.pickle.\n",
      " Pickling 450125 to data_450125.pickle.\n",
      " Pickling 534216 to data_534216.pickle.\n",
      "Cutouts will be obtained for 4 halos\n",
      " Obtaining cutout of halo 142457 at redshift 0.000000\n",
      " Columns requested:Coordinates Masses Velocities GFM_Metallicity Coordinates Density GFM_Metallicity Masses SmoothingLength Velocities \n",
      " Obtaining cutout of halo 372071 at redshift 0.000000\n",
      " Columns requested:Coordinates Masses Velocities GFM_Metallicity Coordinates Density GFM_Metallicity Masses SmoothingLength Velocities \n",
      " Obtaining cutout of halo 450125 at redshift 0.000000\n",
      " Columns requested:Coordinates Masses Velocities GFM_Metallicity Coordinates Density GFM_Metallicity Masses SmoothingLength Velocities \n",
      " Obtaining cutout of halo 534216 at redshift 0.000000\n",
      " Columns requested:Coordinates Masses Velocities GFM_Metallicity Coordinates Density GFM_Metallicity Masses SmoothingLength Velocities \n",
      "Limiting angular momentum calculation to r < 0.5338\n",
      "Limiting angular momentum calculation to r < 0\n",
      "Limiting angular momentum calculation to r < 0\n",
      "Limiting angular momentum calculation to r < 0\n",
      " \"splashifying\" cutout_142457.hdf5, output will be saved to cutout_142457_splash.hdf5\n",
      " \"splashifying\" cutout_372071.hdf5, output will be saved to cutout_372071_splash.hdf5\n",
      " \"splashifying\" cutout_450125.hdf5, output will be saved to cutout_450125_splash.hdf5\n",
      " \"splashifying\" cutout_534216.hdf5, output will be saved to cutout_534216_splash.hdf5\n"
     ]
    },
    {
     "name": "stderr",
     "output_type": "stream",
     "text": [
      "/Users/sandyspicer/Desktop/RIT/Illustris-3/groups_135/illustris_api/illustris_api.py:1037: RuntimeWarning: invalid value encountered in true_divide\n",
      "  Lhat = totL/modL # this is the direction the total angular momentum vector points\n"
     ]
    }
   ],
   "source": [
    "from __future__ import division, print_function\n",
    "\n",
    "import illustris_api as ia\n",
    "\n",
    "import matplotlib.pyplot as pyplot\n",
    "\n",
    "# Illustris API Configuration\n",
    "ia.set_apikey('4e2c93455bbc8e991a91a61ef5e11daa')\n",
    "\n",
    "h = 0.704 # Apparently\n",
    "\n",
    "z = 0.\n",
    "lower = 100\n",
    "upper = 120\n",
    "\n",
    "def test_plot(fname):\n",
    "    f = h5py.File(fname,'r')\n",
    "    x = f['PartType0']['Coordinates'][:,0]\n",
    "    z = f['PartType0']['Coordinates'][:,1]\n",
    "    dens = numpy.log10(f['PartType0']['Masses'][:])\n",
    "    import matplotlib.pyplot as pyplot\n",
    "    pyplot.figure()\n",
    "    pyplot.hist2d(z,x,weights=dens,bins=[150,100])\n",
    "    pyplot.show()\n",
    "\n",
    "\n",
    "files = None\n",
    "#files = ['cutout_41094.hdf5.orig'] # uncomment and set this to suppress to downloading\n",
    "\n",
    "if files is None: \n",
    "\n",
    "    halo_data_prelim = ia.obtain_halos_by_mass(lower, upper, z)\n",
    "\n",
    "    c = halo_data_prelim['count']\n",
    "    if ia.DEBUG: print(c)\n",
    "\n",
    "    halo_ids, halo_data = ia.obtain_subhalos_data(halo_data_prelim, z)\n",
    "\n",
    "    halo_ids, halo_data = ia.filter_haloids(halo_ids, halo_data, filters=[ia.filter_non_zero_mass, ia.filter_star_mass, ia.filter_fluid_mass], args=[None, {'lower': 0.000001, 'upper': 0.93}, {'lower': 0.000001, 'upper': 0.1}])\n",
    "\n",
    "    if ia.DEBUG: print(halo_ids[:])\n",
    "\n",
    "    ia.store_metadata(halo_data)\n",
    "    \n",
    "    # This is an example of how to unpickle, not a real bit of code :-)\n",
    "    # You probably don't want to uncomment this!S\n",
    "    #new_halos = ia.load_metadata(['data_9.pickle', 'data_66085.pickle', 'data_183685.pickle'])\n",
    "    #print(len(new_halos))\n",
    "\n",
    "    files = ia.obtain_cutouts(halo_data, gascols=['Coordinates', 'Density', 'GFM_Metallicity', 'Masses', 'SmoothingLength', 'Velocities'], starcols=['Coordinates', 'Masses', 'Velocities','GFM_Metallicity'], count=None)\n",
    "\n",
    "    Ldata = []\n",
    "    ia.detilt_files(files, halo_data, L_outputs=Ldata)\n",
    "    if ia.DEBUG: print(Ldata)\n",
    "\n",
    "ia.process_cutouts_for_splash(files)"
   ]
  },
  {
   "cell_type": "code",
   "execution_count": 3,
   "metadata": {},
   "outputs": [
    {
     "name": "stdout",
     "output_type": "stream",
     "text": [
      "[9, 16943, 16945, 51815, 51817, 86189, 175437, 283108, 300121]\n",
      "[17.3273, 21.0422, 10.2439, 19.8717, 13.9459, 22.0267, 18.3425, 10.3823, 11.3271]\n",
      "[1.29745, 0.138509, 0.752617, 0.365221, 0.153031, 0.319254, 0.849363, 1.28809, 2.09091]\n",
      "[12.231137846186163, 12.178989203323628, 12.175869119848365, 12.226698743694868, 12.217035060988515, 12.228874802785263, 12.185001783683987, 12.193417129761203, 12.203247742341132]\n"
     ]
    }
   ],
   "source": [
    "stellar_mass = []\n",
    "fluid_mass = []\n",
    "virial_mass = []\n",
    "\n",
    "\n",
    "for h in halo_data:\n",
    "    stellar_mass.append(h['mass_stars'])\n",
    "    fluid_mass.append(h['mass_gas'])\n",
    "    \n",
    "    \n",
    "for i in range(0,len(halo_data_prelim['results'])):\n",
    "    for j in range(0,len(halo_ids)):\n",
    "        if halo_data_prelim['results'][i]['id'] == halo_ids[j]:\n",
    "            virial_mass.append(halo_data_prelim['results'][i]['mass_log_msun'])\n",
    "            \n",
    "print(halo_ids)    \n",
    "print(stellar_mass)\n",
    "print(fluid_mass)\n",
    "print(virial_mass)"
   ]
  },
  {
   "cell_type": "code",
   "execution_count": 4,
   "metadata": {},
   "outputs": [
    {
     "name": "stdout",
     "output_type": "stream",
     "text": [
      "[array([-0.9100803,  0.3995248,  0.1101533], dtype=float32), array([ 0.00216075,  0.9962227 , -0.08680852], dtype=float32), array([ 0.48164558, -0.77368885,  0.41161022], dtype=float32), array([-0.8462242 ,  0.06216504,  0.52918804], dtype=float32), array([-0.04846234,  0.41198483, -0.909901  ], dtype=float32), array([-0.3991903 ,  0.5813431 , -0.70900434], dtype=float32), array([-0.7128855 , -0.24278466,  0.65791327], dtype=float32), array([-0.6303943,  0.6468918, -0.4291085], dtype=float32), array([-0.08395714,  0.45033592, -0.88890314], dtype=float32)]\n"
     ]
    }
   ],
   "source": [
    "# Prints the angular momentum vectors\n",
    "\n",
    "Lhat = []\n",
    "for i in range(0,len(Ldata)):\n",
    "     Lhat.append(Ldata[i][2])\n",
    "        \n",
    "print(Lhat)"
   ]
  },
  {
   "cell_type": "code",
   "execution_count": 5,
   "metadata": {},
   "outputs": [
    {
     "name": "stdout",
     "output_type": "stream",
     "text": [
      " Beginning unpickle process...\n",
      " UnPickled 9 from /Users/sandyspicer/Desktop/RIT/Illustris-3/groups_135/illustris_api/data_9.pickle \n",
      " Beginning unpickle process...\n",
      " UnPickled 16943 from /Users/sandyspicer/Desktop/RIT/Illustris-3/groups_135/illustris_api/data_16943.pickle \n",
      " Beginning unpickle process...\n",
      " UnPickled 16945 from /Users/sandyspicer/Desktop/RIT/Illustris-3/groups_135/illustris_api/data_16945.pickle \n",
      " Beginning unpickle process...\n",
      " UnPickled 51815 from /Users/sandyspicer/Desktop/RIT/Illustris-3/groups_135/illustris_api/data_51815.pickle \n",
      " Beginning unpickle process...\n",
      " UnPickled 51817 from /Users/sandyspicer/Desktop/RIT/Illustris-3/groups_135/illustris_api/data_51817.pickle \n",
      " Beginning unpickle process...\n",
      " UnPickled 86189 from /Users/sandyspicer/Desktop/RIT/Illustris-3/groups_135/illustris_api/data_86189.pickle \n",
      " Beginning unpickle process...\n",
      " UnPickled 175437 from /Users/sandyspicer/Desktop/RIT/Illustris-3/groups_135/illustris_api/data_175437.pickle \n",
      " Beginning unpickle process...\n",
      " UnPickled 283108 from /Users/sandyspicer/Desktop/RIT/Illustris-3/groups_135/illustris_api/data_283108.pickle \n",
      " Beginning unpickle process...\n",
      " UnPickled 300121 from /Users/sandyspicer/Desktop/RIT/Illustris-3/groups_135/illustris_api/data_300121.pickle \n",
      "[{'snap': 135, 'id': 300121, 'bhmdot': 1.26e-07, 'cm_x': 19066.4, 'cm_y': 13489.9, 'cm_z': 23076.7, 'gasmetallicity': 0.0451605, 'gasmetallicityhalfrad': 0.0533687, 'gasmetallicitymaxrad': 0.0455855, 'gasmetallicitysfr': 0.0495775, 'gasmetallicitysfrweighted': 0.0496823, 'pos_x': 19066.6, 'pos_y': 13488.3, 'pos_z': 23076.8, 'halfmassrad': 38.4663, 'halfmassrad_gas': 16.0523, 'halfmassrad_dm': 43.6333, 'halfmassrad_stars': 11.6706, 'halfmassrad_bhs': 0.0, 'len': 440700, 'len_gas': 20096, 'len_dm': 224520, 'len_stars': 196083, 'len_bhs': 1, 'mass': 112.414, 'mass_gas': 2.09091, 'mass_dm': 98.9901, 'mass_stars': 11.3271, 'mass_bhs': 0.005819, 'massinhalfrad': 15.8565, 'massinhalfrad_gas': 0.527567, 'massinhalfrad_dm': 9.6596, 'massinhalfrad_stars': 5.66355, 'massinhalfrad_bhs': 0.005819, 'massinmaxrad': 33.0361, 'massinmaxrad_gas': 1.50101, 'massinmaxrad_dm': 22.081, 'massinmaxrad_stars': 9.44827, 'massinmaxrad_bhs': 0.005819, 'massinrad': 36.0918, 'massinrad_gas': 1.54206, 'massinrad_dm': 24.7237, 'massinrad_stars': 9.82018, 'massinrad_bhs': 0.005819, 'sfr': 2.21616, 'sfrinhalfrad': 0.973869, 'sfrinmaxrad': 2.21616, 'sfrinrad': 2.21616, 'spin_x': 152.853, 'spin_y': -1411.19, 'spin_z': -1670.97, 'starmetallicity': 0.0258393, 'starmetallicityhalfrad': 0.0269129, 'starmetallicitymaxrad': 0.0260797, 'stellarphotometrics_u': -21.306, 'stellarphotometrics_b': -21.5025, 'stellarphotometrics_v': -22.2679, 'stellarphotometrics_k': -25.2356, 'stellarphotometrics_g': -21.9141, 'stellarphotometrics_r': -22.5858, 'stellarphotometrics_i': -22.9303, 'stellarphotometrics_z': -23.1924, 'stellarphotometricsmassinrad': 8.79505, 'stellarphotometricsrad': 14.7477, 'vel_x': -142.625, 'vel_y': 28.3173, 'vel_z': -71.8468, 'veldisp': 149.372, 'vmax': 258.068, 'vmaxrad': 21.3395, 'windmass': 0.001721, 'prog_snap': 134, 'prog_sfid': 298754, 'desc_snap': -1, 'desc_sfid': -1, 'parent': 0, 'grnr': 249, 'primary_flag': 0, 'mass_log_msun': 12.203247742341132, 'related': {'sublink_progenitor': 'http://www.illustris-project.org/api/Illustris-1/snapshots/134/subhalos/298754/', 'sublink_descendant': None, 'parent_halo': 'http://www.illustris-project.org/api/Illustris-1/snapshots/135/halos/249/'}, 'cutouts': {'subhalo': 'http://www.illustris-project.org/api/Illustris-1/snapshots/135/subhalos/300121/cutout.hdf5', 'parent_halo': 'http://www.illustris-project.org/api/Illustris-1/snapshots/135/halos/249/cutout.hdf5'}, 'trees': {'lhalotree_mpb': 'http://www.illustris-project.org/api/Illustris-1/snapshots/135/subhalos/300121/lhalotree/mpb.hdf5', 'lhalotree': 'http://www.illustris-project.org/api/Illustris-1/snapshots/135/subhalos/300121/lhalotree/full.hdf5', 'sublink': 'http://www.illustris-project.org/api/Illustris-1/snapshots/135/subhalos/300121/sublink/full.hdf5', 'sublink_simple': 'http://www.illustris-project.org/api/Illustris-1/snapshots/135/subhalos/300121/sublink/simple.json', 'sublink_mpb': 'http://www.illustris-project.org/api/Illustris-1/snapshots/135/subhalos/300121/sublink/mpb.hdf5', 'sublink_mdb': 'http://www.illustris-project.org/api/Illustris-1/snapshots/135/subhalos/300121/sublink/mdb.hdf5'}, 'supplementary_data': {'stellar_mocks': {'image_gz': 'http://www.illustris-project.org/api/Illustris-1/snapshots/135/subhalos/300121/stellar_mocks/image_gz.png', 'fits_subhalo': 'http://www.illustris-project.org/api/Illustris-1/snapshots/135/subhalos/300121/stellar_mocks/broadband_subhalo.fits', 'image_subhalo': 'http://www.illustris-project.org/api/Illustris-1/snapshots/135/subhalos/300121/stellar_mocks/image_subhalo.png', 'image_fof': 'http://www.illustris-project.org/api/Illustris-1/snapshots/135/subhalos/300121/stellar_mocks/image_fof.png', 'sed': 'http://www.illustris-project.org/api/Illustris-1/snapshots/135/subhalos/300121/stellar_mocks/sed.json', 'sed_subhalo': 'http://www.illustris-project.org/api/Illustris-1/snapshots/135/subhalos/300121/stellar_mocks/sed_subhalo.json', 'fits': 'http://www.illustris-project.org/api/Illustris-1/snapshots/135/subhalos/300121/stellar_mocks/broadband.fits'}}, 'meta': {'url': 'http://www.illustris-project.org/api/Illustris-1/snapshots/135/subhalos/300121/', 'info': 'http://www.illustris-project.org/api/Illustris-1/snapshots/135/subhalos/300121/info.json', 'snapshot': 'http://www.illustris-project.org/api/Illustris-1/snapshots/135/', 'simulation': 'http://www.illustris-project.org/api/Illustris-1/'}, 'redshift': 0.0}]\n"
     ]
    }
   ],
   "source": [
    "for i in halo_ids:\n",
    "    data = ia.load_metadata(['/Users/sandyspicer/Desktop/RIT/Illustris-3/groups_135/illustris_api/data_'+str(i)+'.pickle'])\n",
    "    \n",
    "print(data)"
   ]
  },
  {
   "cell_type": "code",
   "execution_count": 6,
   "metadata": {},
   "outputs": [],
   "source": [
    "import h5py, numpy\n",
    "def get_HI(halo_ids):\n",
    "    f = []\n",
    "    HI = []\n",
    "    mean = []\n",
    "    for i in halo_ids:\n",
    "        f = h5py.File('/Users/sandyspicer/Desktop/RIT/Illustris-3/groups_135/illustris_api/cutout_'+str(i)+'.hdf5', 'r')\n",
    "        HI.append(f['PartType0']['NeutralHydrogenAbundance'][:])\n",
    "        \n",
    "    for j in range(0,len(HI)):\n",
    "        mean.append(numpy.ndarray.mean(HI[j]))\n",
    "\n",
    "    return mean"
   ]
  },
  {
   "cell_type": "code",
   "execution_count": 7,
   "metadata": {},
   "outputs": [
    {
     "name": "stdout",
     "output_type": "stream",
     "text": [
      "[0.3135438, 0.3991836, 0.23660062, 0.49712604, 0.32111976, 0.3827684, 0.6334383, 0.13528639, 0.49575645]\n",
      "[9, 16943, 16945, 51815, 51817, 86189, 175437, 283108, 300121]\n"
     ]
    }
   ],
   "source": [
    "HI_abundance = get_HI(halo_ids)\n",
    "print(HI_abundance)\n",
    "print(halo_ids)"
   ]
  },
  {
   "cell_type": "code",
   "execution_count": 9,
   "metadata": {},
   "outputs": [
    {
     "name": "stdout",
     "output_type": "stream",
     "text": [
      "[{'snap': 135, 'id': 9, 'bhmdot': 0.0023199, 'cm_x': 836.88, 'cm_y': 26668.7, 'cm_z': 17974.8, 'gasmetallicity': 0.0454903, 'gasmetallicityhalfrad': 0.0555207, 'gasmetallicitymaxrad': 0.0536047, 'gasmetallicitysfr': 0.0462946, 'gasmetallicitysfrweighted': 0.0483238, 'pos_x': 835.328, 'pos_y': 26671.5, 'pos_z': 17974.5, 'halfmassrad': 33.9127, 'halfmassrad_gas': 10.4876, 'halfmassrad_dm': 39.777, 'halfmassrad_stars': 6.2268, 'halfmassrad_bhs': 0.0, 'len': 543254, 'len_gas': 11791, 'len_dm': 229593, 'len_stars': 301869, 'len_bhs': 1, 'mass': 119.87, 'mass_gas': 1.29745, 'mass_dm': 101.227, 'mass_stars': 17.3273, 'mass_bhs': 0.018475, 'massinhalfrad': 14.2777, 'massinhalfrad_gas': 0.269583, 'massinhalfrad_dm': 5.32603, 'massinhalfrad_stars': 8.66362, 'massinhalfrad_bhs': 0.018475, 'massinmaxrad': 15.8637, 'massinmaxrad_gas': 0.315826, 'massinmaxrad_dm': 6.24133, 'massinmaxrad_stars': 9.28803, 'massinmaxrad_bhs': 0.018475, 'massinrad': 27.2963, 'massinrad_gas': 0.895264, 'massinrad_dm': 13.5823, 'massinrad_stars': 12.8003, 'massinrad_bhs': 0.018475, 'sfr': 3.84238, 'sfrinhalfrad': 1.3868, 'sfrinmaxrad': 1.52856, 'sfrinrad': 3.53712, 'spin_x': -1653.28, 'spin_y': -124.9, 'spin_z': -293.615, 'starmetallicity': 0.0314122, 'starmetallicityhalfrad': 0.0348664, 'starmetallicitymaxrad': 0.034286, 'stellarphotometrics_u': -21.9219, 'stellarphotometrics_b': -22.0506, 'stellarphotometrics_v': -22.777, 'stellarphotometrics_k': -25.711, 'stellarphotometrics_g': -22.4464, 'stellarphotometrics_r': -23.0842, 'stellarphotometrics_i': -23.4179, 'stellarphotometrics_z': -23.6745, 'stellarphotometricsmassinrad': 14.2563, 'stellarphotometricsrad': 12.1849, 'vel_x': -590.281, 'vel_y': -452.102, 'vel_z': -1334.63, 'veldisp': 170.754, 'vmax': 314.229, 'vmaxrad': 6.9114, 'windmass': 0.001195, 'prog_snap': 134, 'prog_sfid': 11, 'desc_snap': -1, 'desc_sfid': -1, 'parent': 0, 'grnr': 0, 'primary_flag': 0, 'mass_log_msun': 12.231137846186163, 'related': {'sublink_progenitor': 'http://www.illustris-project.org/api/Illustris-1/snapshots/134/subhalos/11/', 'sublink_descendant': None, 'parent_halo': 'http://www.illustris-project.org/api/Illustris-1/snapshots/135/halos/0/'}, 'cutouts': {'subhalo': 'http://www.illustris-project.org/api/Illustris-1/snapshots/135/subhalos/9/cutout.hdf5', 'parent_halo': 'http://www.illustris-project.org/api/Illustris-1/snapshots/135/halos/0/cutout.hdf5'}, 'trees': {'lhalotree_mpb': 'http://www.illustris-project.org/api/Illustris-1/snapshots/135/subhalos/9/lhalotree/mpb.hdf5', 'lhalotree': 'http://www.illustris-project.org/api/Illustris-1/snapshots/135/subhalos/9/lhalotree/full.hdf5', 'sublink': 'http://www.illustris-project.org/api/Illustris-1/snapshots/135/subhalos/9/sublink/full.hdf5', 'sublink_simple': 'http://www.illustris-project.org/api/Illustris-1/snapshots/135/subhalos/9/sublink/simple.json', 'sublink_mpb': 'http://www.illustris-project.org/api/Illustris-1/snapshots/135/subhalos/9/sublink/mpb.hdf5', 'sublink_mdb': 'http://www.illustris-project.org/api/Illustris-1/snapshots/135/subhalos/9/sublink/mdb.hdf5'}, 'supplementary_data': {'stellar_mocks': {'image_gz': 'http://www.illustris-project.org/api/Illustris-1/snapshots/135/subhalos/9/stellar_mocks/image_gz.png', 'fits_subhalo': 'http://www.illustris-project.org/api/Illustris-1/snapshots/135/subhalos/9/stellar_mocks/broadband_subhalo.fits', 'image_subhalo': 'http://www.illustris-project.org/api/Illustris-1/snapshots/135/subhalos/9/stellar_mocks/image_subhalo.png', 'image_fof': 'http://www.illustris-project.org/api/Illustris-1/snapshots/135/subhalos/9/stellar_mocks/image_fof.png', 'sed': 'http://www.illustris-project.org/api/Illustris-1/snapshots/135/subhalos/9/stellar_mocks/sed.json', 'sed_subhalo': 'http://www.illustris-project.org/api/Illustris-1/snapshots/135/subhalos/9/stellar_mocks/sed_subhalo.json', 'fits': 'http://www.illustris-project.org/api/Illustris-1/snapshots/135/subhalos/9/stellar_mocks/broadband.fits'}}, 'meta': {'url': 'http://www.illustris-project.org/api/Illustris-1/snapshots/135/subhalos/9/', 'info': 'http://www.illustris-project.org/api/Illustris-1/snapshots/135/subhalos/9/info.json', 'snapshot': 'http://www.illustris-project.org/api/Illustris-1/snapshots/135/', 'simulation': 'http://www.illustris-project.org/api/Illustris-1/'}, 'redshift': 0}, {'snap': 135, 'id': 9, 'bhmdot': 0.0023199, 'cm_x': 836.88, 'cm_y': 26668.7, 'cm_z': 17974.8, 'gasmetallicity': 0.0454903, 'gasmetallicityhalfrad': 0.0555207, 'gasmetallicitymaxrad': 0.0536047, 'gasmetallicitysfr': 0.0462946, 'gasmetallicitysfrweighted': 0.0483238, 'pos_x': 835.328, 'pos_y': 26671.5, 'pos_z': 17974.5, 'halfmassrad': 33.9127, 'halfmassrad_gas': 10.4876, 'halfmassrad_dm': 39.777, 'halfmassrad_stars': 6.2268, 'halfmassrad_bhs': 0.0, 'len': 543254, 'len_gas': 11791, 'len_dm': 229593, 'len_stars': 301869, 'len_bhs': 1, 'mass': 119.87, 'mass_gas': 1.29745, 'mass_dm': 101.227, 'mass_stars': 17.3273, 'mass_bhs': 0.018475, 'massinhalfrad': 14.2777, 'massinhalfrad_gas': 0.269583, 'massinhalfrad_dm': 5.32603, 'massinhalfrad_stars': 8.66362, 'massinhalfrad_bhs': 0.018475, 'massinmaxrad': 15.8637, 'massinmaxrad_gas': 0.315826, 'massinmaxrad_dm': 6.24133, 'massinmaxrad_stars': 9.28803, 'massinmaxrad_bhs': 0.018475, 'massinrad': 27.2963, 'massinrad_gas': 0.895264, 'massinrad_dm': 13.5823, 'massinrad_stars': 12.8003, 'massinrad_bhs': 0.018475, 'sfr': 3.84238, 'sfrinhalfrad': 1.3868, 'sfrinmaxrad': 1.52856, 'sfrinrad': 3.53712, 'spin_x': -1653.28, 'spin_y': -124.9, 'spin_z': -293.615, 'starmetallicity': 0.0314122, 'starmetallicityhalfrad': 0.0348664, 'starmetallicitymaxrad': 0.034286, 'stellarphotometrics_u': -21.9219, 'stellarphotometrics_b': -22.0506, 'stellarphotometrics_v': -22.777, 'stellarphotometrics_k': -25.711, 'stellarphotometrics_g': -22.4464, 'stellarphotometrics_r': -23.0842, 'stellarphotometrics_i': -23.4179, 'stellarphotometrics_z': -23.6745, 'stellarphotometricsmassinrad': 14.2563, 'stellarphotometricsrad': 12.1849, 'vel_x': -590.281, 'vel_y': -452.102, 'vel_z': -1334.63, 'veldisp': 170.754, 'vmax': 314.229, 'vmaxrad': 6.9114, 'windmass': 0.001195, 'prog_snap': 134, 'prog_sfid': 11, 'desc_snap': -1, 'desc_sfid': -1, 'parent': 0, 'grnr': 0, 'primary_flag': 0, 'mass_log_msun': 12.231137846186163, 'related': {'sublink_progenitor': 'http://www.illustris-project.org/api/Illustris-1/snapshots/134/subhalos/11/', 'sublink_descendant': None, 'parent_halo': 'http://www.illustris-project.org/api/Illustris-1/snapshots/135/halos/0/'}, 'cutouts': {'subhalo': 'http://www.illustris-project.org/api/Illustris-1/snapshots/135/subhalos/9/cutout.hdf5', 'parent_halo': 'http://www.illustris-project.org/api/Illustris-1/snapshots/135/halos/0/cutout.hdf5'}, 'trees': {'lhalotree_mpb': 'http://www.illustris-project.org/api/Illustris-1/snapshots/135/subhalos/9/lhalotree/mpb.hdf5', 'lhalotree': 'http://www.illustris-project.org/api/Illustris-1/snapshots/135/subhalos/9/lhalotree/full.hdf5', 'sublink': 'http://www.illustris-project.org/api/Illustris-1/snapshots/135/subhalos/9/sublink/full.hdf5', 'sublink_simple': 'http://www.illustris-project.org/api/Illustris-1/snapshots/135/subhalos/9/sublink/simple.json', 'sublink_mpb': 'http://www.illustris-project.org/api/Illustris-1/snapshots/135/subhalos/9/sublink/mpb.hdf5', 'sublink_mdb': 'http://www.illustris-project.org/api/Illustris-1/snapshots/135/subhalos/9/sublink/mdb.hdf5'}, 'supplementary_data': {'stellar_mocks': {'image_gz': 'http://www.illustris-project.org/api/Illustris-1/snapshots/135/subhalos/9/stellar_mocks/image_gz.png', 'fits_subhalo': 'http://www.illustris-project.org/api/Illustris-1/snapshots/135/subhalos/9/stellar_mocks/broadband_subhalo.fits', 'image_subhalo': 'http://www.illustris-project.org/api/Illustris-1/snapshots/135/subhalos/9/stellar_mocks/image_subhalo.png', 'image_fof': 'http://www.illustris-project.org/api/Illustris-1/snapshots/135/subhalos/9/stellar_mocks/image_fof.png', 'sed': 'http://www.illustris-project.org/api/Illustris-1/snapshots/135/subhalos/9/stellar_mocks/sed.json', 'sed_subhalo': 'http://www.illustris-project.org/api/Illustris-1/snapshots/135/subhalos/9/stellar_mocks/sed_subhalo.json', 'fits': 'http://www.illustris-project.org/api/Illustris-1/snapshots/135/subhalos/9/stellar_mocks/broadband.fits'}}, 'meta': {'url': 'http://www.illustris-project.org/api/Illustris-1/snapshots/135/subhalos/9/', 'info': 'http://www.illustris-project.org/api/Illustris-1/snapshots/135/subhalos/9/info.json', 'snapshot': 'http://www.illustris-project.org/api/Illustris-1/snapshots/135/', 'simulation': 'http://www.illustris-project.org/api/Illustris-1/'}, 'redshift': 0}, {'snap': 135, 'id': 9, 'bhmdot': 0.0023199, 'cm_x': 836.88, 'cm_y': 26668.7, 'cm_z': 17974.8, 'gasmetallicity': 0.0454903, 'gasmetallicityhalfrad': 0.0555207, 'gasmetallicitymaxrad': 0.0536047, 'gasmetallicitysfr': 0.0462946, 'gasmetallicitysfrweighted': 0.0483238, 'pos_x': 835.328, 'pos_y': 26671.5, 'pos_z': 17974.5, 'halfmassrad': 33.9127, 'halfmassrad_gas': 10.4876, 'halfmassrad_dm': 39.777, 'halfmassrad_stars': 6.2268, 'halfmassrad_bhs': 0.0, 'len': 543254, 'len_gas': 11791, 'len_dm': 229593, 'len_stars': 301869, 'len_bhs': 1, 'mass': 119.87, 'mass_gas': 1.29745, 'mass_dm': 101.227, 'mass_stars': 17.3273, 'mass_bhs': 0.018475, 'massinhalfrad': 14.2777, 'massinhalfrad_gas': 0.269583, 'massinhalfrad_dm': 5.32603, 'massinhalfrad_stars': 8.66362, 'massinhalfrad_bhs': 0.018475, 'massinmaxrad': 15.8637, 'massinmaxrad_gas': 0.315826, 'massinmaxrad_dm': 6.24133, 'massinmaxrad_stars': 9.28803, 'massinmaxrad_bhs': 0.018475, 'massinrad': 27.2963, 'massinrad_gas': 0.895264, 'massinrad_dm': 13.5823, 'massinrad_stars': 12.8003, 'massinrad_bhs': 0.018475, 'sfr': 3.84238, 'sfrinhalfrad': 1.3868, 'sfrinmaxrad': 1.52856, 'sfrinrad': 3.53712, 'spin_x': -1653.28, 'spin_y': -124.9, 'spin_z': -293.615, 'starmetallicity': 0.0314122, 'starmetallicityhalfrad': 0.0348664, 'starmetallicitymaxrad': 0.034286, 'stellarphotometrics_u': -21.9219, 'stellarphotometrics_b': -22.0506, 'stellarphotometrics_v': -22.777, 'stellarphotometrics_k': -25.711, 'stellarphotometrics_g': -22.4464, 'stellarphotometrics_r': -23.0842, 'stellarphotometrics_i': -23.4179, 'stellarphotometrics_z': -23.6745, 'stellarphotometricsmassinrad': 14.2563, 'stellarphotometricsrad': 12.1849, 'vel_x': -590.281, 'vel_y': -452.102, 'vel_z': -1334.63, 'veldisp': 170.754, 'vmax': 314.229, 'vmaxrad': 6.9114, 'windmass': 0.001195, 'prog_snap': 134, 'prog_sfid': 11, 'desc_snap': -1, 'desc_sfid': -1, 'parent': 0, 'grnr': 0, 'primary_flag': 0, 'mass_log_msun': 12.231137846186163, 'related': {'sublink_progenitor': 'http://www.illustris-project.org/api/Illustris-1/snapshots/134/subhalos/11/', 'sublink_descendant': None, 'parent_halo': 'http://www.illustris-project.org/api/Illustris-1/snapshots/135/halos/0/'}, 'cutouts': {'subhalo': 'http://www.illustris-project.org/api/Illustris-1/snapshots/135/subhalos/9/cutout.hdf5', 'parent_halo': 'http://www.illustris-project.org/api/Illustris-1/snapshots/135/halos/0/cutout.hdf5'}, 'trees': {'lhalotree_mpb': 'http://www.illustris-project.org/api/Illustris-1/snapshots/135/subhalos/9/lhalotree/mpb.hdf5', 'lhalotree': 'http://www.illustris-project.org/api/Illustris-1/snapshots/135/subhalos/9/lhalotree/full.hdf5', 'sublink': 'http://www.illustris-project.org/api/Illustris-1/snapshots/135/subhalos/9/sublink/full.hdf5', 'sublink_simple': 'http://www.illustris-project.org/api/Illustris-1/snapshots/135/subhalos/9/sublink/simple.json', 'sublink_mpb': 'http://www.illustris-project.org/api/Illustris-1/snapshots/135/subhalos/9/sublink/mpb.hdf5', 'sublink_mdb': 'http://www.illustris-project.org/api/Illustris-1/snapshots/135/subhalos/9/sublink/mdb.hdf5'}, 'supplementary_data': {'stellar_mocks': {'image_gz': 'http://www.illustris-project.org/api/Illustris-1/snapshots/135/subhalos/9/stellar_mocks/image_gz.png', 'fits_subhalo': 'http://www.illustris-project.org/api/Illustris-1/snapshots/135/subhalos/9/stellar_mocks/broadband_subhalo.fits', 'image_subhalo': 'http://www.illustris-project.org/api/Illustris-1/snapshots/135/subhalos/9/stellar_mocks/image_subhalo.png', 'image_fof': 'http://www.illustris-project.org/api/Illustris-1/snapshots/135/subhalos/9/stellar_mocks/image_fof.png', 'sed': 'http://www.illustris-project.org/api/Illustris-1/snapshots/135/subhalos/9/stellar_mocks/sed.json', 'sed_subhalo': 'http://www.illustris-project.org/api/Illustris-1/snapshots/135/subhalos/9/stellar_mocks/sed_subhalo.json', 'fits': 'http://www.illustris-project.org/api/Illustris-1/snapshots/135/subhalos/9/stellar_mocks/broadband.fits'}}, 'meta': {'url': 'http://www.illustris-project.org/api/Illustris-1/snapshots/135/subhalos/9/', 'info': 'http://www.illustris-project.org/api/Illustris-1/snapshots/135/subhalos/9/info.json', 'snapshot': 'http://www.illustris-project.org/api/Illustris-1/snapshots/135/', 'simulation': 'http://www.illustris-project.org/api/Illustris-1/'}, 'redshift': 0}, {'snap': 135, 'id': 9, 'bhmdot': 0.0023199, 'cm_x': 836.88, 'cm_y': 26668.7, 'cm_z': 17974.8, 'gasmetallicity': 0.0454903, 'gasmetallicityhalfrad': 0.0555207, 'gasmetallicitymaxrad': 0.0536047, 'gasmetallicitysfr': 0.0462946, 'gasmetallicitysfrweighted': 0.0483238, 'pos_x': 835.328, 'pos_y': 26671.5, 'pos_z': 17974.5, 'halfmassrad': 33.9127, 'halfmassrad_gas': 10.4876, 'halfmassrad_dm': 39.777, 'halfmassrad_stars': 6.2268, 'halfmassrad_bhs': 0.0, 'len': 543254, 'len_gas': 11791, 'len_dm': 229593, 'len_stars': 301869, 'len_bhs': 1, 'mass': 119.87, 'mass_gas': 1.29745, 'mass_dm': 101.227, 'mass_stars': 17.3273, 'mass_bhs': 0.018475, 'massinhalfrad': 14.2777, 'massinhalfrad_gas': 0.269583, 'massinhalfrad_dm': 5.32603, 'massinhalfrad_stars': 8.66362, 'massinhalfrad_bhs': 0.018475, 'massinmaxrad': 15.8637, 'massinmaxrad_gas': 0.315826, 'massinmaxrad_dm': 6.24133, 'massinmaxrad_stars': 9.28803, 'massinmaxrad_bhs': 0.018475, 'massinrad': 27.2963, 'massinrad_gas': 0.895264, 'massinrad_dm': 13.5823, 'massinrad_stars': 12.8003, 'massinrad_bhs': 0.018475, 'sfr': 3.84238, 'sfrinhalfrad': 1.3868, 'sfrinmaxrad': 1.52856, 'sfrinrad': 3.53712, 'spin_x': -1653.28, 'spin_y': -124.9, 'spin_z': -293.615, 'starmetallicity': 0.0314122, 'starmetallicityhalfrad': 0.0348664, 'starmetallicitymaxrad': 0.034286, 'stellarphotometrics_u': -21.9219, 'stellarphotometrics_b': -22.0506, 'stellarphotometrics_v': -22.777, 'stellarphotometrics_k': -25.711, 'stellarphotometrics_g': -22.4464, 'stellarphotometrics_r': -23.0842, 'stellarphotometrics_i': -23.4179, 'stellarphotometrics_z': -23.6745, 'stellarphotometricsmassinrad': 14.2563, 'stellarphotometricsrad': 12.1849, 'vel_x': -590.281, 'vel_y': -452.102, 'vel_z': -1334.63, 'veldisp': 170.754, 'vmax': 314.229, 'vmaxrad': 6.9114, 'windmass': 0.001195, 'prog_snap': 134, 'prog_sfid': 11, 'desc_snap': -1, 'desc_sfid': -1, 'parent': 0, 'grnr': 0, 'primary_flag': 0, 'mass_log_msun': 12.231137846186163, 'related': {'sublink_progenitor': 'http://www.illustris-project.org/api/Illustris-1/snapshots/134/subhalos/11/', 'sublink_descendant': None, 'parent_halo': 'http://www.illustris-project.org/api/Illustris-1/snapshots/135/halos/0/'}, 'cutouts': {'subhalo': 'http://www.illustris-project.org/api/Illustris-1/snapshots/135/subhalos/9/cutout.hdf5', 'parent_halo': 'http://www.illustris-project.org/api/Illustris-1/snapshots/135/halos/0/cutout.hdf5'}, 'trees': {'lhalotree_mpb': 'http://www.illustris-project.org/api/Illustris-1/snapshots/135/subhalos/9/lhalotree/mpb.hdf5', 'lhalotree': 'http://www.illustris-project.org/api/Illustris-1/snapshots/135/subhalos/9/lhalotree/full.hdf5', 'sublink': 'http://www.illustris-project.org/api/Illustris-1/snapshots/135/subhalos/9/sublink/full.hdf5', 'sublink_simple': 'http://www.illustris-project.org/api/Illustris-1/snapshots/135/subhalos/9/sublink/simple.json', 'sublink_mpb': 'http://www.illustris-project.org/api/Illustris-1/snapshots/135/subhalos/9/sublink/mpb.hdf5', 'sublink_mdb': 'http://www.illustris-project.org/api/Illustris-1/snapshots/135/subhalos/9/sublink/mdb.hdf5'}, 'supplementary_data': {'stellar_mocks': {'image_gz': 'http://www.illustris-project.org/api/Illustris-1/snapshots/135/subhalos/9/stellar_mocks/image_gz.png', 'fits_subhalo': 'http://www.illustris-project.org/api/Illustris-1/snapshots/135/subhalos/9/stellar_mocks/broadband_subhalo.fits', 'image_subhalo': 'http://www.illustris-project.org/api/Illustris-1/snapshots/135/subhalos/9/stellar_mocks/image_subhalo.png', 'image_fof': 'http://www.illustris-project.org/api/Illustris-1/snapshots/135/subhalos/9/stellar_mocks/image_fof.png', 'sed': 'http://www.illustris-project.org/api/Illustris-1/snapshots/135/subhalos/9/stellar_mocks/sed.json', 'sed_subhalo': 'http://www.illustris-project.org/api/Illustris-1/snapshots/135/subhalos/9/stellar_mocks/sed_subhalo.json', 'fits': 'http://www.illustris-project.org/api/Illustris-1/snapshots/135/subhalos/9/stellar_mocks/broadband.fits'}}, 'meta': {'url': 'http://www.illustris-project.org/api/Illustris-1/snapshots/135/subhalos/9/', 'info': 'http://www.illustris-project.org/api/Illustris-1/snapshots/135/subhalos/9/info.json', 'snapshot': 'http://www.illustris-project.org/api/Illustris-1/snapshots/135/', 'simulation': 'http://www.illustris-project.org/api/Illustris-1/'}, 'redshift': 0}, {'snap': 135, 'id': 9, 'bhmdot': 0.0023199, 'cm_x': 836.88, 'cm_y': 26668.7, 'cm_z': 17974.8, 'gasmetallicity': 0.0454903, 'gasmetallicityhalfrad': 0.0555207, 'gasmetallicitymaxrad': 0.0536047, 'gasmetallicitysfr': 0.0462946, 'gasmetallicitysfrweighted': 0.0483238, 'pos_x': 835.328, 'pos_y': 26671.5, 'pos_z': 17974.5, 'halfmassrad': 33.9127, 'halfmassrad_gas': 10.4876, 'halfmassrad_dm': 39.777, 'halfmassrad_stars': 6.2268, 'halfmassrad_bhs': 0.0, 'len': 543254, 'len_gas': 11791, 'len_dm': 229593, 'len_stars': 301869, 'len_bhs': 1, 'mass': 119.87, 'mass_gas': 1.29745, 'mass_dm': 101.227, 'mass_stars': 17.3273, 'mass_bhs': 0.018475, 'massinhalfrad': 14.2777, 'massinhalfrad_gas': 0.269583, 'massinhalfrad_dm': 5.32603, 'massinhalfrad_stars': 8.66362, 'massinhalfrad_bhs': 0.018475, 'massinmaxrad': 15.8637, 'massinmaxrad_gas': 0.315826, 'massinmaxrad_dm': 6.24133, 'massinmaxrad_stars': 9.28803, 'massinmaxrad_bhs': 0.018475, 'massinrad': 27.2963, 'massinrad_gas': 0.895264, 'massinrad_dm': 13.5823, 'massinrad_stars': 12.8003, 'massinrad_bhs': 0.018475, 'sfr': 3.84238, 'sfrinhalfrad': 1.3868, 'sfrinmaxrad': 1.52856, 'sfrinrad': 3.53712, 'spin_x': -1653.28, 'spin_y': -124.9, 'spin_z': -293.615, 'starmetallicity': 0.0314122, 'starmetallicityhalfrad': 0.0348664, 'starmetallicitymaxrad': 0.034286, 'stellarphotometrics_u': -21.9219, 'stellarphotometrics_b': -22.0506, 'stellarphotometrics_v': -22.777, 'stellarphotometrics_k': -25.711, 'stellarphotometrics_g': -22.4464, 'stellarphotometrics_r': -23.0842, 'stellarphotometrics_i': -23.4179, 'stellarphotometrics_z': -23.6745, 'stellarphotometricsmassinrad': 14.2563, 'stellarphotometricsrad': 12.1849, 'vel_x': -590.281, 'vel_y': -452.102, 'vel_z': -1334.63, 'veldisp': 170.754, 'vmax': 314.229, 'vmaxrad': 6.9114, 'windmass': 0.001195, 'prog_snap': 134, 'prog_sfid': 11, 'desc_snap': -1, 'desc_sfid': -1, 'parent': 0, 'grnr': 0, 'primary_flag': 0, 'mass_log_msun': 12.231137846186163, 'related': {'sublink_progenitor': 'http://www.illustris-project.org/api/Illustris-1/snapshots/134/subhalos/11/', 'sublink_descendant': None, 'parent_halo': 'http://www.illustris-project.org/api/Illustris-1/snapshots/135/halos/0/'}, 'cutouts': {'subhalo': 'http://www.illustris-project.org/api/Illustris-1/snapshots/135/subhalos/9/cutout.hdf5', 'parent_halo': 'http://www.illustris-project.org/api/Illustris-1/snapshots/135/halos/0/cutout.hdf5'}, 'trees': {'lhalotree_mpb': 'http://www.illustris-project.org/api/Illustris-1/snapshots/135/subhalos/9/lhalotree/mpb.hdf5', 'lhalotree': 'http://www.illustris-project.org/api/Illustris-1/snapshots/135/subhalos/9/lhalotree/full.hdf5', 'sublink': 'http://www.illustris-project.org/api/Illustris-1/snapshots/135/subhalos/9/sublink/full.hdf5', 'sublink_simple': 'http://www.illustris-project.org/api/Illustris-1/snapshots/135/subhalos/9/sublink/simple.json', 'sublink_mpb': 'http://www.illustris-project.org/api/Illustris-1/snapshots/135/subhalos/9/sublink/mpb.hdf5', 'sublink_mdb': 'http://www.illustris-project.org/api/Illustris-1/snapshots/135/subhalos/9/sublink/mdb.hdf5'}, 'supplementary_data': {'stellar_mocks': {'image_gz': 'http://www.illustris-project.org/api/Illustris-1/snapshots/135/subhalos/9/stellar_mocks/image_gz.png', 'fits_subhalo': 'http://www.illustris-project.org/api/Illustris-1/snapshots/135/subhalos/9/stellar_mocks/broadband_subhalo.fits', 'image_subhalo': 'http://www.illustris-project.org/api/Illustris-1/snapshots/135/subhalos/9/stellar_mocks/image_subhalo.png', 'image_fof': 'http://www.illustris-project.org/api/Illustris-1/snapshots/135/subhalos/9/stellar_mocks/image_fof.png', 'sed': 'http://www.illustris-project.org/api/Illustris-1/snapshots/135/subhalos/9/stellar_mocks/sed.json', 'sed_subhalo': 'http://www.illustris-project.org/api/Illustris-1/snapshots/135/subhalos/9/stellar_mocks/sed_subhalo.json', 'fits': 'http://www.illustris-project.org/api/Illustris-1/snapshots/135/subhalos/9/stellar_mocks/broadband.fits'}}, 'meta': {'url': 'http://www.illustris-project.org/api/Illustris-1/snapshots/135/subhalos/9/', 'info': 'http://www.illustris-project.org/api/Illustris-1/snapshots/135/subhalos/9/info.json', 'snapshot': 'http://www.illustris-project.org/api/Illustris-1/snapshots/135/', 'simulation': 'http://www.illustris-project.org/api/Illustris-1/'}, 'redshift': 0}, {'snap': 135, 'id': 9, 'bhmdot': 0.0023199, 'cm_x': 836.88, 'cm_y': 26668.7, 'cm_z': 17974.8, 'gasmetallicity': 0.0454903, 'gasmetallicityhalfrad': 0.0555207, 'gasmetallicitymaxrad': 0.0536047, 'gasmetallicitysfr': 0.0462946, 'gasmetallicitysfrweighted': 0.0483238, 'pos_x': 835.328, 'pos_y': 26671.5, 'pos_z': 17974.5, 'halfmassrad': 33.9127, 'halfmassrad_gas': 10.4876, 'halfmassrad_dm': 39.777, 'halfmassrad_stars': 6.2268, 'halfmassrad_bhs': 0.0, 'len': 543254, 'len_gas': 11791, 'len_dm': 229593, 'len_stars': 301869, 'len_bhs': 1, 'mass': 119.87, 'mass_gas': 1.29745, 'mass_dm': 101.227, 'mass_stars': 17.3273, 'mass_bhs': 0.018475, 'massinhalfrad': 14.2777, 'massinhalfrad_gas': 0.269583, 'massinhalfrad_dm': 5.32603, 'massinhalfrad_stars': 8.66362, 'massinhalfrad_bhs': 0.018475, 'massinmaxrad': 15.8637, 'massinmaxrad_gas': 0.315826, 'massinmaxrad_dm': 6.24133, 'massinmaxrad_stars': 9.28803, 'massinmaxrad_bhs': 0.018475, 'massinrad': 27.2963, 'massinrad_gas': 0.895264, 'massinrad_dm': 13.5823, 'massinrad_stars': 12.8003, 'massinrad_bhs': 0.018475, 'sfr': 3.84238, 'sfrinhalfrad': 1.3868, 'sfrinmaxrad': 1.52856, 'sfrinrad': 3.53712, 'spin_x': -1653.28, 'spin_y': -124.9, 'spin_z': -293.615, 'starmetallicity': 0.0314122, 'starmetallicityhalfrad': 0.0348664, 'starmetallicitymaxrad': 0.034286, 'stellarphotometrics_u': -21.9219, 'stellarphotometrics_b': -22.0506, 'stellarphotometrics_v': -22.777, 'stellarphotometrics_k': -25.711, 'stellarphotometrics_g': -22.4464, 'stellarphotometrics_r': -23.0842, 'stellarphotometrics_i': -23.4179, 'stellarphotometrics_z': -23.6745, 'stellarphotometricsmassinrad': 14.2563, 'stellarphotometricsrad': 12.1849, 'vel_x': -590.281, 'vel_y': -452.102, 'vel_z': -1334.63, 'veldisp': 170.754, 'vmax': 314.229, 'vmaxrad': 6.9114, 'windmass': 0.001195, 'prog_snap': 134, 'prog_sfid': 11, 'desc_snap': -1, 'desc_sfid': -1, 'parent': 0, 'grnr': 0, 'primary_flag': 0, 'mass_log_msun': 12.231137846186163, 'related': {'sublink_progenitor': 'http://www.illustris-project.org/api/Illustris-1/snapshots/134/subhalos/11/', 'sublink_descendant': None, 'parent_halo': 'http://www.illustris-project.org/api/Illustris-1/snapshots/135/halos/0/'}, 'cutouts': {'subhalo': 'http://www.illustris-project.org/api/Illustris-1/snapshots/135/subhalos/9/cutout.hdf5', 'parent_halo': 'http://www.illustris-project.org/api/Illustris-1/snapshots/135/halos/0/cutout.hdf5'}, 'trees': {'lhalotree_mpb': 'http://www.illustris-project.org/api/Illustris-1/snapshots/135/subhalos/9/lhalotree/mpb.hdf5', 'lhalotree': 'http://www.illustris-project.org/api/Illustris-1/snapshots/135/subhalos/9/lhalotree/full.hdf5', 'sublink': 'http://www.illustris-project.org/api/Illustris-1/snapshots/135/subhalos/9/sublink/full.hdf5', 'sublink_simple': 'http://www.illustris-project.org/api/Illustris-1/snapshots/135/subhalos/9/sublink/simple.json', 'sublink_mpb': 'http://www.illustris-project.org/api/Illustris-1/snapshots/135/subhalos/9/sublink/mpb.hdf5', 'sublink_mdb': 'http://www.illustris-project.org/api/Illustris-1/snapshots/135/subhalos/9/sublink/mdb.hdf5'}, 'supplementary_data': {'stellar_mocks': {'image_gz': 'http://www.illustris-project.org/api/Illustris-1/snapshots/135/subhalos/9/stellar_mocks/image_gz.png', 'fits_subhalo': 'http://www.illustris-project.org/api/Illustris-1/snapshots/135/subhalos/9/stellar_mocks/broadband_subhalo.fits', 'image_subhalo': 'http://www.illustris-project.org/api/Illustris-1/snapshots/135/subhalos/9/stellar_mocks/image_subhalo.png', 'image_fof': 'http://www.illustris-project.org/api/Illustris-1/snapshots/135/subhalos/9/stellar_mocks/image_fof.png', 'sed': 'http://www.illustris-project.org/api/Illustris-1/snapshots/135/subhalos/9/stellar_mocks/sed.json', 'sed_subhalo': 'http://www.illustris-project.org/api/Illustris-1/snapshots/135/subhalos/9/stellar_mocks/sed_subhalo.json', 'fits': 'http://www.illustris-project.org/api/Illustris-1/snapshots/135/subhalos/9/stellar_mocks/broadband.fits'}}, 'meta': {'url': 'http://www.illustris-project.org/api/Illustris-1/snapshots/135/subhalos/9/', 'info': 'http://www.illustris-project.org/api/Illustris-1/snapshots/135/subhalos/9/info.json', 'snapshot': 'http://www.illustris-project.org/api/Illustris-1/snapshots/135/', 'simulation': 'http://www.illustris-project.org/api/Illustris-1/'}, 'redshift': 0}, {'snap': 135, 'id': 9, 'bhmdot': 0.0023199, 'cm_x': 836.88, 'cm_y': 26668.7, 'cm_z': 17974.8, 'gasmetallicity': 0.0454903, 'gasmetallicityhalfrad': 0.0555207, 'gasmetallicitymaxrad': 0.0536047, 'gasmetallicitysfr': 0.0462946, 'gasmetallicitysfrweighted': 0.0483238, 'pos_x': 835.328, 'pos_y': 26671.5, 'pos_z': 17974.5, 'halfmassrad': 33.9127, 'halfmassrad_gas': 10.4876, 'halfmassrad_dm': 39.777, 'halfmassrad_stars': 6.2268, 'halfmassrad_bhs': 0.0, 'len': 543254, 'len_gas': 11791, 'len_dm': 229593, 'len_stars': 301869, 'len_bhs': 1, 'mass': 119.87, 'mass_gas': 1.29745, 'mass_dm': 101.227, 'mass_stars': 17.3273, 'mass_bhs': 0.018475, 'massinhalfrad': 14.2777, 'massinhalfrad_gas': 0.269583, 'massinhalfrad_dm': 5.32603, 'massinhalfrad_stars': 8.66362, 'massinhalfrad_bhs': 0.018475, 'massinmaxrad': 15.8637, 'massinmaxrad_gas': 0.315826, 'massinmaxrad_dm': 6.24133, 'massinmaxrad_stars': 9.28803, 'massinmaxrad_bhs': 0.018475, 'massinrad': 27.2963, 'massinrad_gas': 0.895264, 'massinrad_dm': 13.5823, 'massinrad_stars': 12.8003, 'massinrad_bhs': 0.018475, 'sfr': 3.84238, 'sfrinhalfrad': 1.3868, 'sfrinmaxrad': 1.52856, 'sfrinrad': 3.53712, 'spin_x': -1653.28, 'spin_y': -124.9, 'spin_z': -293.615, 'starmetallicity': 0.0314122, 'starmetallicityhalfrad': 0.0348664, 'starmetallicitymaxrad': 0.034286, 'stellarphotometrics_u': -21.9219, 'stellarphotometrics_b': -22.0506, 'stellarphotometrics_v': -22.777, 'stellarphotometrics_k': -25.711, 'stellarphotometrics_g': -22.4464, 'stellarphotometrics_r': -23.0842, 'stellarphotometrics_i': -23.4179, 'stellarphotometrics_z': -23.6745, 'stellarphotometricsmassinrad': 14.2563, 'stellarphotometricsrad': 12.1849, 'vel_x': -590.281, 'vel_y': -452.102, 'vel_z': -1334.63, 'veldisp': 170.754, 'vmax': 314.229, 'vmaxrad': 6.9114, 'windmass': 0.001195, 'prog_snap': 134, 'prog_sfid': 11, 'desc_snap': -1, 'desc_sfid': -1, 'parent': 0, 'grnr': 0, 'primary_flag': 0, 'mass_log_msun': 12.231137846186163, 'related': {'sublink_progenitor': 'http://www.illustris-project.org/api/Illustris-1/snapshots/134/subhalos/11/', 'sublink_descendant': None, 'parent_halo': 'http://www.illustris-project.org/api/Illustris-1/snapshots/135/halos/0/'}, 'cutouts': {'subhalo': 'http://www.illustris-project.org/api/Illustris-1/snapshots/135/subhalos/9/cutout.hdf5', 'parent_halo': 'http://www.illustris-project.org/api/Illustris-1/snapshots/135/halos/0/cutout.hdf5'}, 'trees': {'lhalotree_mpb': 'http://www.illustris-project.org/api/Illustris-1/snapshots/135/subhalos/9/lhalotree/mpb.hdf5', 'lhalotree': 'http://www.illustris-project.org/api/Illustris-1/snapshots/135/subhalos/9/lhalotree/full.hdf5', 'sublink': 'http://www.illustris-project.org/api/Illustris-1/snapshots/135/subhalos/9/sublink/full.hdf5', 'sublink_simple': 'http://www.illustris-project.org/api/Illustris-1/snapshots/135/subhalos/9/sublink/simple.json', 'sublink_mpb': 'http://www.illustris-project.org/api/Illustris-1/snapshots/135/subhalos/9/sublink/mpb.hdf5', 'sublink_mdb': 'http://www.illustris-project.org/api/Illustris-1/snapshots/135/subhalos/9/sublink/mdb.hdf5'}, 'supplementary_data': {'stellar_mocks': {'image_gz': 'http://www.illustris-project.org/api/Illustris-1/snapshots/135/subhalos/9/stellar_mocks/image_gz.png', 'fits_subhalo': 'http://www.illustris-project.org/api/Illustris-1/snapshots/135/subhalos/9/stellar_mocks/broadband_subhalo.fits', 'image_subhalo': 'http://www.illustris-project.org/api/Illustris-1/snapshots/135/subhalos/9/stellar_mocks/image_subhalo.png', 'image_fof': 'http://www.illustris-project.org/api/Illustris-1/snapshots/135/subhalos/9/stellar_mocks/image_fof.png', 'sed': 'http://www.illustris-project.org/api/Illustris-1/snapshots/135/subhalos/9/stellar_mocks/sed.json', 'sed_subhalo': 'http://www.illustris-project.org/api/Illustris-1/snapshots/135/subhalos/9/stellar_mocks/sed_subhalo.json', 'fits': 'http://www.illustris-project.org/api/Illustris-1/snapshots/135/subhalos/9/stellar_mocks/broadband.fits'}}, 'meta': {'url': 'http://www.illustris-project.org/api/Illustris-1/snapshots/135/subhalos/9/', 'info': 'http://www.illustris-project.org/api/Illustris-1/snapshots/135/subhalos/9/info.json', 'snapshot': 'http://www.illustris-project.org/api/Illustris-1/snapshots/135/', 'simulation': 'http://www.illustris-project.org/api/Illustris-1/'}, 'redshift': 0}, {'snap': 135, 'id': 9, 'bhmdot': 0.0023199, 'cm_x': 836.88, 'cm_y': 26668.7, 'cm_z': 17974.8, 'gasmetallicity': 0.0454903, 'gasmetallicityhalfrad': 0.0555207, 'gasmetallicitymaxrad': 0.0536047, 'gasmetallicitysfr': 0.0462946, 'gasmetallicitysfrweighted': 0.0483238, 'pos_x': 835.328, 'pos_y': 26671.5, 'pos_z': 17974.5, 'halfmassrad': 33.9127, 'halfmassrad_gas': 10.4876, 'halfmassrad_dm': 39.777, 'halfmassrad_stars': 6.2268, 'halfmassrad_bhs': 0.0, 'len': 543254, 'len_gas': 11791, 'len_dm': 229593, 'len_stars': 301869, 'len_bhs': 1, 'mass': 119.87, 'mass_gas': 1.29745, 'mass_dm': 101.227, 'mass_stars': 17.3273, 'mass_bhs': 0.018475, 'massinhalfrad': 14.2777, 'massinhalfrad_gas': 0.269583, 'massinhalfrad_dm': 5.32603, 'massinhalfrad_stars': 8.66362, 'massinhalfrad_bhs': 0.018475, 'massinmaxrad': 15.8637, 'massinmaxrad_gas': 0.315826, 'massinmaxrad_dm': 6.24133, 'massinmaxrad_stars': 9.28803, 'massinmaxrad_bhs': 0.018475, 'massinrad': 27.2963, 'massinrad_gas': 0.895264, 'massinrad_dm': 13.5823, 'massinrad_stars': 12.8003, 'massinrad_bhs': 0.018475, 'sfr': 3.84238, 'sfrinhalfrad': 1.3868, 'sfrinmaxrad': 1.52856, 'sfrinrad': 3.53712, 'spin_x': -1653.28, 'spin_y': -124.9, 'spin_z': -293.615, 'starmetallicity': 0.0314122, 'starmetallicityhalfrad': 0.0348664, 'starmetallicitymaxrad': 0.034286, 'stellarphotometrics_u': -21.9219, 'stellarphotometrics_b': -22.0506, 'stellarphotometrics_v': -22.777, 'stellarphotometrics_k': -25.711, 'stellarphotometrics_g': -22.4464, 'stellarphotometrics_r': -23.0842, 'stellarphotometrics_i': -23.4179, 'stellarphotometrics_z': -23.6745, 'stellarphotometricsmassinrad': 14.2563, 'stellarphotometricsrad': 12.1849, 'vel_x': -590.281, 'vel_y': -452.102, 'vel_z': -1334.63, 'veldisp': 170.754, 'vmax': 314.229, 'vmaxrad': 6.9114, 'windmass': 0.001195, 'prog_snap': 134, 'prog_sfid': 11, 'desc_snap': -1, 'desc_sfid': -1, 'parent': 0, 'grnr': 0, 'primary_flag': 0, 'mass_log_msun': 12.231137846186163, 'related': {'sublink_progenitor': 'http://www.illustris-project.org/api/Illustris-1/snapshots/134/subhalos/11/', 'sublink_descendant': None, 'parent_halo': 'http://www.illustris-project.org/api/Illustris-1/snapshots/135/halos/0/'}, 'cutouts': {'subhalo': 'http://www.illustris-project.org/api/Illustris-1/snapshots/135/subhalos/9/cutout.hdf5', 'parent_halo': 'http://www.illustris-project.org/api/Illustris-1/snapshots/135/halos/0/cutout.hdf5'}, 'trees': {'lhalotree_mpb': 'http://www.illustris-project.org/api/Illustris-1/snapshots/135/subhalos/9/lhalotree/mpb.hdf5', 'lhalotree': 'http://www.illustris-project.org/api/Illustris-1/snapshots/135/subhalos/9/lhalotree/full.hdf5', 'sublink': 'http://www.illustris-project.org/api/Illustris-1/snapshots/135/subhalos/9/sublink/full.hdf5', 'sublink_simple': 'http://www.illustris-project.org/api/Illustris-1/snapshots/135/subhalos/9/sublink/simple.json', 'sublink_mpb': 'http://www.illustris-project.org/api/Illustris-1/snapshots/135/subhalos/9/sublink/mpb.hdf5', 'sublink_mdb': 'http://www.illustris-project.org/api/Illustris-1/snapshots/135/subhalos/9/sublink/mdb.hdf5'}, 'supplementary_data': {'stellar_mocks': {'image_gz': 'http://www.illustris-project.org/api/Illustris-1/snapshots/135/subhalos/9/stellar_mocks/image_gz.png', 'fits_subhalo': 'http://www.illustris-project.org/api/Illustris-1/snapshots/135/subhalos/9/stellar_mocks/broadband_subhalo.fits', 'image_subhalo': 'http://www.illustris-project.org/api/Illustris-1/snapshots/135/subhalos/9/stellar_mocks/image_subhalo.png', 'image_fof': 'http://www.illustris-project.org/api/Illustris-1/snapshots/135/subhalos/9/stellar_mocks/image_fof.png', 'sed': 'http://www.illustris-project.org/api/Illustris-1/snapshots/135/subhalos/9/stellar_mocks/sed.json', 'sed_subhalo': 'http://www.illustris-project.org/api/Illustris-1/snapshots/135/subhalos/9/stellar_mocks/sed_subhalo.json', 'fits': 'http://www.illustris-project.org/api/Illustris-1/snapshots/135/subhalos/9/stellar_mocks/broadband.fits'}}, 'meta': {'url': 'http://www.illustris-project.org/api/Illustris-1/snapshots/135/subhalos/9/', 'info': 'http://www.illustris-project.org/api/Illustris-1/snapshots/135/subhalos/9/info.json', 'snapshot': 'http://www.illustris-project.org/api/Illustris-1/snapshots/135/', 'simulation': 'http://www.illustris-project.org/api/Illustris-1/'}, 'redshift': 0}, {'snap': 135, 'id': 9, 'bhmdot': 0.0023199, 'cm_x': 836.88, 'cm_y': 26668.7, 'cm_z': 17974.8, 'gasmetallicity': 0.0454903, 'gasmetallicityhalfrad': 0.0555207, 'gasmetallicitymaxrad': 0.0536047, 'gasmetallicitysfr': 0.0462946, 'gasmetallicitysfrweighted': 0.0483238, 'pos_x': 835.328, 'pos_y': 26671.5, 'pos_z': 17974.5, 'halfmassrad': 33.9127, 'halfmassrad_gas': 10.4876, 'halfmassrad_dm': 39.777, 'halfmassrad_stars': 6.2268, 'halfmassrad_bhs': 0.0, 'len': 543254, 'len_gas': 11791, 'len_dm': 229593, 'len_stars': 301869, 'len_bhs': 1, 'mass': 119.87, 'mass_gas': 1.29745, 'mass_dm': 101.227, 'mass_stars': 17.3273, 'mass_bhs': 0.018475, 'massinhalfrad': 14.2777, 'massinhalfrad_gas': 0.269583, 'massinhalfrad_dm': 5.32603, 'massinhalfrad_stars': 8.66362, 'massinhalfrad_bhs': 0.018475, 'massinmaxrad': 15.8637, 'massinmaxrad_gas': 0.315826, 'massinmaxrad_dm': 6.24133, 'massinmaxrad_stars': 9.28803, 'massinmaxrad_bhs': 0.018475, 'massinrad': 27.2963, 'massinrad_gas': 0.895264, 'massinrad_dm': 13.5823, 'massinrad_stars': 12.8003, 'massinrad_bhs': 0.018475, 'sfr': 3.84238, 'sfrinhalfrad': 1.3868, 'sfrinmaxrad': 1.52856, 'sfrinrad': 3.53712, 'spin_x': -1653.28, 'spin_y': -124.9, 'spin_z': -293.615, 'starmetallicity': 0.0314122, 'starmetallicityhalfrad': 0.0348664, 'starmetallicitymaxrad': 0.034286, 'stellarphotometrics_u': -21.9219, 'stellarphotometrics_b': -22.0506, 'stellarphotometrics_v': -22.777, 'stellarphotometrics_k': -25.711, 'stellarphotometrics_g': -22.4464, 'stellarphotometrics_r': -23.0842, 'stellarphotometrics_i': -23.4179, 'stellarphotometrics_z': -23.6745, 'stellarphotometricsmassinrad': 14.2563, 'stellarphotometricsrad': 12.1849, 'vel_x': -590.281, 'vel_y': -452.102, 'vel_z': -1334.63, 'veldisp': 170.754, 'vmax': 314.229, 'vmaxrad': 6.9114, 'windmass': 0.001195, 'prog_snap': 134, 'prog_sfid': 11, 'desc_snap': -1, 'desc_sfid': -1, 'parent': 0, 'grnr': 0, 'primary_flag': 0, 'mass_log_msun': 12.231137846186163, 'related': {'sublink_progenitor': 'http://www.illustris-project.org/api/Illustris-1/snapshots/134/subhalos/11/', 'sublink_descendant': None, 'parent_halo': 'http://www.illustris-project.org/api/Illustris-1/snapshots/135/halos/0/'}, 'cutouts': {'subhalo': 'http://www.illustris-project.org/api/Illustris-1/snapshots/135/subhalos/9/cutout.hdf5', 'parent_halo': 'http://www.illustris-project.org/api/Illustris-1/snapshots/135/halos/0/cutout.hdf5'}, 'trees': {'lhalotree_mpb': 'http://www.illustris-project.org/api/Illustris-1/snapshots/135/subhalos/9/lhalotree/mpb.hdf5', 'lhalotree': 'http://www.illustris-project.org/api/Illustris-1/snapshots/135/subhalos/9/lhalotree/full.hdf5', 'sublink': 'http://www.illustris-project.org/api/Illustris-1/snapshots/135/subhalos/9/sublink/full.hdf5', 'sublink_simple': 'http://www.illustris-project.org/api/Illustris-1/snapshots/135/subhalos/9/sublink/simple.json', 'sublink_mpb': 'http://www.illustris-project.org/api/Illustris-1/snapshots/135/subhalos/9/sublink/mpb.hdf5', 'sublink_mdb': 'http://www.illustris-project.org/api/Illustris-1/snapshots/135/subhalos/9/sublink/mdb.hdf5'}, 'supplementary_data': {'stellar_mocks': {'image_gz': 'http://www.illustris-project.org/api/Illustris-1/snapshots/135/subhalos/9/stellar_mocks/image_gz.png', 'fits_subhalo': 'http://www.illustris-project.org/api/Illustris-1/snapshots/135/subhalos/9/stellar_mocks/broadband_subhalo.fits', 'image_subhalo': 'http://www.illustris-project.org/api/Illustris-1/snapshots/135/subhalos/9/stellar_mocks/image_subhalo.png', 'image_fof': 'http://www.illustris-project.org/api/Illustris-1/snapshots/135/subhalos/9/stellar_mocks/image_fof.png', 'sed': 'http://www.illustris-project.org/api/Illustris-1/snapshots/135/subhalos/9/stellar_mocks/sed.json', 'sed_subhalo': 'http://www.illustris-project.org/api/Illustris-1/snapshots/135/subhalos/9/stellar_mocks/sed_subhalo.json', 'fits': 'http://www.illustris-project.org/api/Illustris-1/snapshots/135/subhalos/9/stellar_mocks/broadband.fits'}}, 'meta': {'url': 'http://www.illustris-project.org/api/Illustris-1/snapshots/135/subhalos/9/', 'info': 'http://www.illustris-project.org/api/Illustris-1/snapshots/135/subhalos/9/info.json', 'snapshot': 'http://www.illustris-project.org/api/Illustris-1/snapshots/135/', 'simulation': 'http://www.illustris-project.org/api/Illustris-1/'}, 'redshift': 0}]\n"
     ]
    }
   ],
   "source": [
    "json = []\n",
    "for i in range(0,len(halo_ids)):\n",
    "    json.append(ia.obtain_subhalo_data(halo_ids[0],0))\n",
    "print(json)\n",
    "\n",
    "#ia.add_metadata(json, 'id', halo_ids)"
   ]
  },
  {
   "cell_type": "code",
   "execution_count": 14,
   "metadata": {},
   "outputs": [
    {
     "ename": "TypeError",
     "evalue": "list indices must be integers or slices, not str",
     "output_type": "error",
     "traceback": [
      "\u001b[0;31m---------------------------------------------------------------------------\u001b[0m",
      "\u001b[0;31mTypeError\u001b[0m                                 Traceback (most recent call last)",
      "\u001b[0;32m<ipython-input-14-f0ff613c52c3>\u001b[0m in \u001b[0;36m<module>\u001b[0;34m()\u001b[0m\n\u001b[0;32m----> 1\u001b[0;31m \u001b[0mia\u001b[0m\u001b[0;34m.\u001b[0m\u001b[0madd_metadata\u001b[0m\u001b[0;34m(\u001b[0m\u001b[0mjson\u001b[0m\u001b[0;34m,\u001b[0m \u001b[0;34m'redshift'\u001b[0m\u001b[0;34m,\u001b[0m \u001b[0mz\u001b[0m\u001b[0;34m)\u001b[0m\u001b[0;34m\u001b[0m\u001b[0m\n\u001b[0m",
      "\u001b[0;32m~/Desktop/RIT/Illustris-3/groups_135/illustris_api/illustris_api.py\u001b[0m in \u001b[0;36madd_metadata\u001b[0;34m(json, key, data)\u001b[0m\n\u001b[1;32m   1248\u001b[0m         \u001b[0mprint\u001b[0m\u001b[0;34m(\u001b[0m\u001b[0;34m\" ERROR: attempt to add metadata key %s which already exists\"\u001b[0m \u001b[0;34m%\u001b[0m \u001b[0mkey\u001b[0m\u001b[0;34m)\u001b[0m\u001b[0;34m\u001b[0m\u001b[0m\n\u001b[1;32m   1249\u001b[0m         \u001b[0msys\u001b[0m\u001b[0;34m.\u001b[0m\u001b[0mexit\u001b[0m\u001b[0;34m(\u001b[0m\u001b[0;36m13\u001b[0m\u001b[0;34m)\u001b[0m\u001b[0;34m\u001b[0m\u001b[0m\n\u001b[0;32m-> 1250\u001b[0;31m     \u001b[0mjson\u001b[0m\u001b[0;34m[\u001b[0m\u001b[0mkey\u001b[0m\u001b[0;34m]\u001b[0m \u001b[0;34m=\u001b[0m \u001b[0mdata\u001b[0m\u001b[0;34m\u001b[0m\u001b[0m\n\u001b[0m",
      "\u001b[0;31mTypeError\u001b[0m: list indices must be integers or slices, not str"
     ]
    }
   ],
   "source": [
    "ia.add_metadata(json, 'redshift', z)"
   ]
  },
  {
   "cell_type": "code",
   "execution_count": null,
   "metadata": {},
   "outputs": [],
   "source": []
  }
 ],
 "metadata": {
  "kernelspec": {
   "display_name": "Python 3",
   "language": "python",
   "name": "python3"
  },
  "language_info": {
   "codemirror_mode": {
    "name": "ipython",
    "version": 3
   },
   "file_extension": ".py",
   "mimetype": "text/x-python",
   "name": "python",
   "nbconvert_exporter": "python",
   "pygments_lexer": "ipython3",
   "version": "3.6.4"
  }
 },
 "nbformat": 4,
 "nbformat_minor": 2
}
